{
  "nbformat": 4,
  "nbformat_minor": 0,
  "metadata": {
    "colab": {
      "provenance": [],
      "authorship_tag": "ABX9TyOyhQlNA2VDJxQAfyL4xwGN",
      "include_colab_link": true
    },
    "kernelspec": {
      "name": "python3",
      "display_name": "Python 3"
    },
    "language_info": {
      "name": "python"
    }
  },
  "cells": [
    {
      "cell_type": "markdown",
      "metadata": {
        "id": "view-in-github",
        "colab_type": "text"
      },
      "source": [
        "<a href=\"https://colab.research.google.com/github/M-Pushkar-Varshney-K/CipherSchools-Hybrid-DS-ML/blob/main/Lecture_23.ipynb\" target=\"_parent\"><img src=\"https://colab.research.google.com/assets/colab-badge.svg\" alt=\"Open In Colab\"/></a>"
      ]
    },
    {
      "cell_type": "code",
      "execution_count": null,
      "metadata": {
        "id": "04sFj3A9ovk3"
      },
      "outputs": [],
      "source": []
    },
    {
      "cell_type": "markdown",
      "source": [
        "# Discriptive Statics:- Mean"
      ],
      "metadata": {
        "id": "KXHj2Be7pWiw"
      }
    },
    {
      "cell_type": "code",
      "source": [
        "import pandas as pd\n",
        "Age = 'age'\n",
        "data = {\n",
        "    Age: [25,35,30,50,28,40,50,60,32,45, 20],\n",
        "    'Salary' : [50000, 1200000, 70000, 60000, 80000, 50000, 85000, 90000, 1500000, 62000, 100000]\n",
        "}\n",
        "df = pd.DataFrame(data)\n",
        "\n",
        "mean_age = df[Age].mean()#we can also do \" df['age'].mean()\"\n",
        "print(round(mean_age,2))\n",
        "\n",
        "mean_salary = df['Salary'].mean()\n",
        "print(round(mean_salary,2))"
      ],
      "metadata": {
        "colab": {
          "base_uri": "https://localhost:8080/"
        },
        "id": "8nyytDYpqp3x",
        "outputId": "ee583ee9-5748-4f1d-cf43-039a933c5b57"
      },
      "execution_count": 18,
      "outputs": [
        {
          "output_type": "stream",
          "name": "stdout",
          "text": [
            "37.73\n",
            "304272.73\n"
          ]
        }
      ]
    },
    {
      "cell_type": "markdown",
      "source": [
        "# Median\n",
        "median is the middle value of ascending order data\n",
        "\n",
        "\n",
        "1.   For even: ->  avg of 2 middle values\n",
        "2.   For odd: -> middle value\n",
        "\n",
        "\n",
        "there can be 3 types of averages:\n",
        "\n",
        "1.   Median avg\n",
        "2.   mode avg\n",
        "3.   Mean avg\n",
        "\n",
        "\n",
        "\n",
        "\n",
        "\n",
        "\n",
        "\n"
      ],
      "metadata": {
        "id": "zrBU9G7wr412"
      }
    },
    {
      "cell_type": "code",
      "source": [
        "median_age = df[Age].median()\n",
        "print(median_age)\n",
        "\n",
        "median_salary = df['Salary'].median()\n",
        "print(median_salary)\n"
      ],
      "metadata": {
        "colab": {
          "base_uri": "https://localhost:8080/"
        },
        "id": "UMU4He4WsE1Q",
        "outputId": "f608be93-ae0b-4b7a-fe1f-b72a22a91752"
      },
      "execution_count": 19,
      "outputs": [
        {
          "output_type": "stream",
          "name": "stdout",
          "text": [
            "35.0\n",
            "80000.0\n"
          ]
        }
      ]
    },
    {
      "cell_type": "markdown",
      "source": [
        "# Mode\n",
        "most frequect value in the data.\n",
        "\n",
        "Note:\n",
        "\n",
        "> If the more than than 1 mode it is called \"Multi mode\"\n",
        "\n",
        "\n"
      ],
      "metadata": {
        "id": "wXXNcSLSu-ji"
      }
    },
    {
      "cell_type": "code",
      "source": [
        "mode_age = df['age'].mode()[0]#\"[0]\" lagane se sirf answer de raha hai...\n",
        "print(mode_age)\n",
        "\n",
        "mode_Salary = df['Salary'].mode()#details bhi de raha hai\n",
        "print(mode_Salary)"
      ],
      "metadata": {
        "colab": {
          "base_uri": "https://localhost:8080/"
        },
        "id": "H_0QuYHbvo1f",
        "outputId": "03004d11-fdc0-4135-e5f1-2bf97ecbbbaf"
      },
      "execution_count": 22,
      "outputs": [
        {
          "output_type": "stream",
          "name": "stdout",
          "text": [
            "50\n",
            "0    50000\n",
            "Name: Salary, dtype: int64\n"
          ]
        }
      ]
    },
    {
      "cell_type": "code",
      "source": [],
      "metadata": {
        "id": "61tTfX4jwzpl"
      },
      "execution_count": null,
      "outputs": []
    },
    {
      "cell_type": "markdown",
      "source": [
        "# Standard Deviation:\n",
        "\n",
        "It measures the amount of variation or dispersion in a set of values.\n",
        "\n",
        "> It indicates how much the values differ from the mean.\n",
        "\n",
        "# Formula:\n",
        "sigma = root(SUM(Xi - miu)^2/n);\n",
        "\n",
        "\n",
        "> Sigma is Variance.\n",
        "\n"
      ],
      "metadata": {
        "id": "rccUgnghwv2Z"
      }
    },
    {
      "cell_type": "code",
      "source": [
        "standarDeviation_age = df[Age].std()\n",
        "print(standarDeviation_age)\n",
        "\n",
        "standarDeviation_Salary = df['Salary'].std()\n",
        "print(standarDeviation_Salary)"
      ],
      "metadata": {
        "colab": {
          "base_uri": "https://localhost:8080/"
        },
        "id": "XoBPTw-ZxAmi",
        "outputId": "8222b016-21b6-495e-8ae9-704192977c9a"
      },
      "execution_count": 28,
      "outputs": [
        {
          "output_type": "stream",
          "name": "stdout",
          "text": [
            "12.353873150481263\n",
            "521600.2474901811\n"
          ]
        }
      ]
    },
    {
      "cell_type": "markdown",
      "source": [
        "# Variace:\n",
        "\n",
        "iske formula me root nhi hota kyunki : sigma^2 hi variance hota hai."
      ],
      "metadata": {
        "id": "6bxzk3Nayyr2"
      }
    },
    {
      "cell_type": "code",
      "source": [
        "Variance_age = df['age'].var()\n",
        "print(Variance_age)\n",
        "\n",
        "Variance_Salary = df['Salary'].var()\n",
        "print(Variance_Salary)"
      ],
      "metadata": {
        "colab": {
          "base_uri": "https://localhost:8080/"
        },
        "id": "RcmDUeU1zsk8",
        "outputId": "e167f7ea-3be0-4cc4-bdeb-cec1da2a3375"
      },
      "execution_count": 29,
      "outputs": [
        {
          "output_type": "stream",
          "name": "stdout",
          "text": [
            "152.61818181818185\n",
            "272066818181.81818\n"
          ]
        }
      ]
    },
    {
      "cell_type": "markdown",
      "source": [
        "# Normal Distribution:\n",
        "it is the continous probility distribution that is \"Symmetric\" around the mean. Also known as \"Gaussion distribution\".\n",
        "\n",
        "Probility Distribution Function = PDF\n",
        "Normal Distribution = ND\n",
        "\n",
        "PDF = ND = (e^-((x-miu)^2)/2*sigma^2)/(sigma*root(2pi))\n",
        "\n",
        "here, \"x\" is the variable jiski \"probability density\" nikali jaa rahi hai."
      ],
      "metadata": {
        "id": "YPlR1cyWz2Ff"
      }
    },
    {
      "cell_type": "code",
      "source": [
        "import numpy as np\n",
        "import matplotlib.pyplot as plt\n",
        "import scipy.stats as stats\n",
        "\n",
        "miu, sigma = 0, 1 # mean and standard deviation\n",
        "s = np.random.normal(miu, sigma, 10000)\n",
        "\n",
        "count, bins, ignored = plt.hist(s, 30, density=True)\n",
        "\n",
        "# print(bins)\n",
        "plt.plot(bins, 1/(sigma * np.sqrt(2 * np.pi)) *\n",
        "         np.exp( - (bins - miu)**2 / (2 * sigma**2) ),\n",
        "         linewidth=2, color='r')\n",
        "plt.title(\"Normal Distribution\")\n",
        "plt.xlabel(\"Values\")\n",
        "plt.ylabel(\"Probability\")\n",
        "plt.show()"
      ],
      "metadata": {
        "colab": {
          "base_uri": "https://localhost:8080/",
          "height": 472
        },
        "id": "aK5LI8571yey",
        "outputId": "b098f18c-39f0-4a4d-d606-b3526adcdcae"
      },
      "execution_count": 47,
      "outputs": [
        {
          "output_type": "display_data",
          "data": {
            "text/plain": [
              "<Figure size 640x480 with 1 Axes>"
            ],
            "image/png": "[encoded data removed]"
          },
          "metadata": {}
        }
      ]
    },
    {
      "cell_type": "markdown",
      "source": [
        "# New Section"
      ],
      "metadata": {
        "id": "jH8bL4Nz4RJV"
      }
    },
    {
      "cell_type": "markdown",
      "source": [
        "# Binomial Distribution:\n"
      ],
      "metadata": {
        "id": "tvviY5884UeS"
      }
    },
    {
      "cell_type": "code",
      "source": [
        "# inomial distribution\n",
        "n, p = 10,0.5\n",
        "bino = np.random.binomial(n, p, 1000)\n",
        "\n",
        "plt.hist(bino, 10, density=True, alpha = 0.6, color='b')\n",
        "plt.title(\"Binomial Distribution\")\n",
        "plt.xlabel(\"Values\")\n",
        "plt.ylabel(\"Probability\")\n",
        "plt.show()"
      ],
      "metadata": {
        "colab": {
          "base_uri": "https://localhost:8080/",
          "height": 472
        },
        "id": "9mVGBhm04Rs5",
        "outputId": "1ee9f69d-6e7f-43b8-9c8b-ef4495404bad"
      },
      "execution_count": 50,
      "outputs": [
        {
          "output_type": "display_data",
          "data": {
            "text/plain": [
              "<Figure size 640x480 with 1 Axes>"
            ],
            "image/png": "[encoded data removed]"
          },
          "metadata": {}
        }
      ]
    },
    {
      "cell_type": "markdown",
      "source": [
        "# Quartiles\n",
        "Quartiles are values that divide a dataset into four equal parts. They are used to understand the distribution of the data and are particularly useful in identifying the spread and the presence of outliers.\n",
        "\n",
        "# ***Key Points***\n",
        ">Q1 (First Quartile): The median of the lower half of the dataset (25th percentile).\n",
        "\n",
        ">Q2 (Second Quartile or Median): The median of the dataset (50th percentile).\n",
        "\n",
        ">Q3 (Third Quartile): The median of the upper half of the dataset (75th percentile).\n",
        "\n",
        "\n",
        "\n",
        "**IQR (Interquartile Range): The difference between the third and first quartiles (IQR = Q3 - Q1). IQR is used to measure the spread of the middle 50% of the data.\n",
        "Example Calculation\n",
        "Let's consider a sample dataset: [1, 2, 3, 4, 5, 6, 7, 8, 9, 10].**\n",
        "\n",
        "*Q1: Median of [1, 2, 3, 4, 5] is 3.\n",
        "\n",
        "Q2 (Median): Median of the entire dataset is 5.5.\n",
        "\n",
        "Q3: Median of [6, 7, 8, 9, 10] is 8.\n",
        "\n",
        "**IQR: IQR = Q3 - Q1 = 8 - 3 = 5.***"
      ],
      "metadata": {
        "id": "jeKSaZ4s5c-F"
      }
    },
    {
      "cell_type": "code",
      "source": [
        "import numpy as np\n",
        "\n",
        "# Sample data\n",
        "data = [1, 2, 3, 4, 5, 6, 7, 8, 9, 10]\n",
        "\n",
        "# Calculate Quartiles\n",
        "Q1 = np.percentile(data, 25)\n",
        "Q2 = np.median(data)\n",
        "Q3 = np.percentile(data, 75)\n",
        "IQR = Q3 - Q1\n",
        "\n",
        "print(f\"Q1: {Q1}\")\n",
        "print(f\"Q2 (Median): {Q2}\")\n",
        "print(f\"Q3: {Q3}\")\n",
        "print(f\"IQR: {IQR}\")"
      ],
      "metadata": {
        "colab": {
          "base_uri": "https://localhost:8080/"
        },
        "id": "ouyNRRU95-jR",
        "outputId": "cef8504f-5063-4eb7-8ae8-6e5e452e7de8"
      },
      "execution_count": 53,
      "outputs": [
        {
          "output_type": "stream",
          "name": "stdout",
          "text": [
            "Q1: 3.25\n",
            "Q2 (Median): 5.5\n",
            "Q3: 7.75\n",
            "IQR: 4.5\n"
          ]
        }
      ]
    },
    {
      "cell_type": "markdown",
      "source": [
        "# Z-Score:\n",
        "A Z-score (or standard score) measures how many standard deviations an element is from the mean. It is used to identify outliers and to compare different data points from different normal distributions.\n",
        "\n",
        "**Formula:**\n",
        "(x-miu)/sigma\n",
        "\n",
        "Interpretation\n",
        "\n",
        "A Z-score of 0 indicates that the data point's score is identical to the mean score.\n",
        "\n",
        "A Z-score of 1.0 indicates a value that is one standard deviation from the mean.\n",
        "\n",
        "Z-scores can be positive or negative, indicating whether they are above or below the mean and by how many standard deviations."
      ],
      "metadata": {
        "id": "UG33zSES7nAJ"
      }
    },
    {
      "cell_type": "code",
      "source": [
        "import numpy as np\n",
        "\n",
        "# Sample data\n",
        "data = [1, 2, 3, 4, 5, 6, 7, 8, 9, 10]\n",
        "\n",
        "# Calculate mean and standard deviation\n",
        "mean = np.mean(data)\n",
        "std_dev = np.std(data)\n",
        "\n",
        "# Calculate Z-scores and round them to 4 decimal places\n",
        "z_scores = [(x - mean) / std_dev for x in data]\n",
        "z_scores_rounded = [round(z, 4) for z in z_scores]\n",
        "\n",
        "print(f\"Mean: {mean}\")\n",
        "print(f\"Standard Deviation: {round(std_dev, 4)}\")\n",
        "print(\"Z-scores:\", z_scores_rounded)\n"
      ],
      "metadata": {
        "colab": {
          "base_uri": "https://localhost:8080/"
        },
        "id": "YMykwEGX7qnE",
        "outputId": "d70c2801-f8c7-46a8-d066-be038d59bbcb"
      },
      "execution_count": 57,
      "outputs": [
        {
          "output_type": "stream",
          "name": "stdout",
          "text": [
            "Mean: 5.5\n",
            "Standard Deviation: 2.8723\n",
            "Z-scores: [-1.5667, -1.2185, -0.8704, -0.5222, -0.1741, 0.1741, 0.5222, 0.8704, 1.2185, 1.5667]\n"
          ]
        }
      ]
    }
  ]
}