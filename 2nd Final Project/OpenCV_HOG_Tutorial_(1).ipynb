{
  "cells": [
    {
      "cell_type": "markdown",
      "id": "83d7d447",
      "metadata": {
        "id": "83d7d447"
      },
      "source": [
        "## 1. Introduction to OpenCV\n",
        "\n",
        "**OpenCV (Open Source Computer Vision Library)** is an open-source computer vision and machine learning software library. It contains more than 2500 optimized algorithms for a wide range of image and video processing tasks.\n",
        "\n",
        "### Key Concepts and Definitions\n",
        "- **Computer Vision:** A field of artificial intelligence that trains computers to interpret and understand the visual world. Using digital images from cameras and videos and deep learning models, machines can accurately identify and classify objects — and then react to what they “see.”\n",
        "- **Image Processing:** The process of manipulating an image to enhance it or extract useful information. Techniques can include noise reduction, contrast adjustment, and edge detection.\n",
        "- **Machine Learning:** A subset of artificial intelligence that involves training algorithms to learn patterns from data and make predictions or decisions without being explicitly programmed to perform the task."
      ]
    },
    {
      "cell_type": "markdown",
      "id": "c61bc702",
      "metadata": {
        "id": "c61bc702"
      },
      "source": [
        "### Basic Functions in OpenCV\n",
        "\n",
        "1. **Reading and Displaying Images:**\n",
        "   - **`cv2.imread()`:** Reads an image from a file.\n",
        "   - **`cv2.imshow()`:** Displays an image in a window.\n",
        "   - **`cv2.waitKey()`:** Waits for a key event.\n",
        "   - **`cv2.destroyAllWindows()`:** Destroys all the windows created.\n",
        "\n",
        "   ```python\n",
        "   import cv2\n",
        "\n",
        "   # Read an image\n",
        "   image = cv2.imread('path_to_image.jpg')\n",
        "\n",
        "   # Display the image\n",
        "   cv2.imshow('Image', image)\n",
        "   cv2.waitKey(0)\n",
        "   cv2.destroyAllWindows()\n",
        "   ```"
      ]
    },
    {
      "cell_type": "markdown",
      "id": "3fba9c3f",
      "metadata": {
        "id": "3fba9c3f"
      },
      "source": [
        "2. **Converting Color Spaces:**\n",
        "   - **`cv2.cvtColor()`:** Converts an image from one color space to another.\n",
        "\n",
        "   ```python\n",
        "   # Convert the image to grayscale\n",
        "   gray_image = cv2.cvtColor(image, cv2.COLOR_BGR2GRAY)\n",
        "   ```"
      ]
    },
    {
      "cell_type": "markdown",
      "id": "5b8ff9e5",
      "metadata": {
        "id": "5b8ff9e5"
      },
      "source": [
        "3. **Resizing Images:**\n",
        "   - **`cv2.resize()`:** Resizes an image to a specified size.\n",
        "\n",
        "   ```python\n",
        "   # Resize the image to 100x100\n",
        "   resized_image = cv2.resize(image, (100, 100))\n",
        "   ```"
      ]
    },
    {
      "cell_type": "markdown",
      "id": "10beee54",
      "metadata": {
        "id": "10beee54"
      },
      "source": [
        "4. **Drawing Shapes:**\n",
        "   - **`cv2.line()`:** Draws a line on an image.\n",
        "   - **`cv2.rectangle()`:** Draws a rectangle on an image.\n",
        "   - **`cv2.circle()`:** Draws a circle on an image.\n",
        "\n",
        "   ```python\n",
        "   # Draw a rectangle\n",
        "   cv2.rectangle(image, (50, 50), (150, 150), (255, 0, 0), 2)\n",
        "\n",
        "   # Draw a circle\n",
        "   cv2.circle(image, (100, 100), 50, (0, 255, 0), 2)\n",
        "\n",
        "   # Display the image with shapes\n",
        "   cv2.imshow('Shapes', image)\n",
        "   cv2.waitKey(0)\n",
        "   cv2.destroyAllWindows()\n",
        "   ```"
      ]
    },
    {
      "cell_type": "markdown",
      "id": "4e0aa700",
      "metadata": {
        "id": "4e0aa700"
      },
      "source": [
        "5. **Image Filtering:**\n",
        "   - **`cv2.GaussianBlur()`:** Applies Gaussian blur to an image.\n",
        "   - **`cv2.Canny()`:** Applies the Canny edge detection algorithm.\n",
        "\n",
        "   ```python\n",
        "   # Apply Gaussian blur\n",
        "   blurred_image = cv2.GaussianBlur(image, (5, 5), 0)\n",
        "\n",
        "   # Apply Canny edge detection\n",
        "   edges = cv2.Canny(gray_image, 100, 200)\n",
        "\n",
        "   # Display the edges\n",
        "   cv2.imshow('Edges', edges)\n",
        "   cv2.waitKey(0)\n",
        "   cv2.destroyAllWindows()\n",
        "   ```"
      ]
    },
    {
      "cell_type": "markdown",
      "id": "361c1680",
      "metadata": {
        "id": "361c1680"
      },
      "source": [
        "## 2. Histogram of Oriented Gradients (HOG)\n",
        "\n",
        "**HOG (Histogram of Oriented Gradients)** is a feature descriptor used in computer vision and image processing for object detection. It captures the gradient structure or edge directions in the image.\n",
        "\n",
        "### Key Concepts and Definitions\n",
        "- **Feature Descriptor:** A representation of an image or part of an image that simplifies the image by extracting important features and discarding irrelevant information. Feature descriptors are used in various computer vision tasks like object detection and image matching.\n",
        "- **Gradients:** Changes in intensity or color in an image. Gradients are used to detect edges in images.\n",
        "- **Histogram:** A graphical representation of the distribution of numerical data. In the context of HOG, histograms are used to represent the distribution of gradient directions."
      ]
    },
    {
      "cell_type": "markdown",
      "id": "4e4dfbe5",
      "metadata": {
        "id": "4e4dfbe5"
      },
      "source": [
        "### Steps in HOG\n",
        "1. **Gradient Computation:**\n",
        "   - The image is divided into small regions called cells.\n",
        "   - For each cell, the gradient (magnitude and direction) of the intensity is computed.\n",
        "\n",
        "2. **Orientation Binning:**\n",
        "   - The gradient directions are quantized into bins.\n",
        "   - A histogram of gradient directions is created for each cell.\n",
        "\n",
        "3. **Block Normalization:**\n",
        "   - The histograms are normalized to account for changes in illumination and contrast.\n",
        "   - Normalized histograms are grouped into larger regions called blocks.\n",
        "\n",
        "4. **Feature Vector:**\n",
        "   - The normalized histograms are concatenated to form the final feature vector."
      ]
    },
    {
      "cell_type": "markdown",
      "id": "a14532d4",
      "metadata": {
        "id": "a14532d4"
      },
      "source": [
        "### Example of HOG\n",
        "\n",
        "Here's how to extract HOG features from an image using OpenCV and scikit-image:\n",
        "\n",
        "```python\n",
        "import cv2\n",
        "from skimage.feature import hog\n",
        "import matplotlib.pyplot as plt\n",
        "\n",
        "# Read the image\n",
        "image = cv2.imread('path_to_image.jpg', cv2.IMREAD_GRAYSCALE)\n",
        "\n",
        "# Resize the image\n",
        "image = cv2.resize(image, (128, 64))\n",
        "\n",
        "# Extract HOG features\n",
        "features, hog_image = hog(image, pixels_per_cell=(8, 8), cells_per_block=(2, 2), visualize=True)\n",
        "\n",
        "# Display the HOG image\n",
        "plt.imshow(hog_image, cmap='gray')\n",
        "plt.title('HOG Features')\n",
        "plt.show()\n",
        "```"
      ]
    },
    {
      "cell_type": "markdown",
      "source": [
        "### Thank You"
      ],
      "metadata": {
        "id": "6rROnFwqVNGl"
      },
      "id": "6rROnFwqVNGl"
    }
  ],
  "metadata": {
    "colab": {
      "provenance": []
    }
  },
  "nbformat": 4,
  "nbformat_minor": 5
}