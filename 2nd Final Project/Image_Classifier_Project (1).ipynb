{
  "cells": [
    {
      "cell_type": "markdown",
      "id": "ad9d87a2",
      "metadata": {
        "id": "ad9d87a2"
      },
      "source": [
        "# Image Classification Project Using OpenCV and scikit-learn\n",
        "\n",
        "In this project, we will build a simple image classifier using basic OpenCV functions and scikit-learn. We will use the Fashion MNIST dataset, which consists of 70,000 images of Zalando's article images. Each image is a 28x28 grayscale image associated with a label from 10 classes, such as T-shirt/top, Trouser, Pullover, Dress, Coat, Sandal, Shirt, Sneaker, Bag, and Ankle boot. We will preprocess the images, extract basic features using OpenCV, and train a simple classifier using scikit-learn."
      ]
    },
    {
      "cell_type": "markdown",
      "id": "e7fa040c",
      "metadata": {
        "id": "e7fa040c"
      },
      "source": [
        "## 1. Setting Up\n",
        "\n",
        "First, ensure you have the necessary libraries installed. You can install them using pip:\n"
      ]
    },
    {
      "cell_type": "code",
      "source": [
        "pip install opencv-python scikit-learn matplotlib numpy"
      ],
      "metadata": {
        "colab": {
          "base_uri": "https://localhost:8080/"
        },
        "id": "L-8DaOQnPv10",
        "outputId": "9fdc5099-a897-4528-de6d-bd3dae39b0f2"
      },
      "id": "L-8DaOQnPv10",
      "execution_count": 1,
      "outputs": [
        {
          "output_type": "stream",
          "name": "stdout",
          "text": [
            "Requirement already satisfied: opencv-python in /usr/local/lib/python3.10/dist-packages (4.8.0.76)\n",
            "Requirement already satisfied: scikit-learn in /usr/local/lib/python3.10/dist-packages (1.2.2)\n",
            "Requirement already satisfied: matplotlib in /usr/local/lib/python3.10/dist-packages (3.7.1)\n",
            "Requirement already satisfied: numpy in /usr/local/lib/python3.10/dist-packages (1.25.2)\n",
            "Requirement already satisfied: scipy>=1.3.2 in /usr/local/lib/python3.10/dist-packages (from scikit-learn) (1.11.4)\n",
            "Requirement already satisfied: joblib>=1.1.1 in /usr/local/lib/python3.10/dist-packages (from scikit-learn) (1.4.2)\n",
            "Requirement already satisfied: threadpoolctl>=2.0.0 in /usr/local/lib/python3.10/dist-packages (from scikit-learn) (3.5.0)\n",
            "Requirement already satisfied: contourpy>=1.0.1 in /usr/local/lib/python3.10/dist-packages (from matplotlib) (1.2.1)\n",
            "Requirement already satisfied: cycler>=0.10 in /usr/local/lib/python3.10/dist-packages (from matplotlib) (0.12.1)\n",
            "Requirement already satisfied: fonttools>=4.22.0 in /usr/local/lib/python3.10/dist-packages (from matplotlib) (4.53.0)\n",
            "Requirement already satisfied: kiwisolver>=1.0.1 in /usr/local/lib/python3.10/dist-packages (from matplotlib) (1.4.5)\n",
            "Requirement already satisfied: packaging>=20.0 in /usr/local/lib/python3.10/dist-packages (from matplotlib) (24.1)\n",
            "Requirement already satisfied: pillow>=6.2.0 in /usr/local/lib/python3.10/dist-packages (from matplotlib) (9.4.0)\n",
            "Requirement already satisfied: pyparsing>=2.3.1 in /usr/local/lib/python3.10/dist-packages (from matplotlib) (3.1.2)\n",
            "Requirement already satisfied: python-dateutil>=2.7 in /usr/local/lib/python3.10/dist-packages (from matplotlib) (2.8.2)\n",
            "Requirement already satisfied: six>=1.5 in /usr/local/lib/python3.10/dist-packages (from python-dateutil>=2.7->matplotlib) (1.16.0)\n"
          ]
        }
      ]
    },
    {
      "cell_type": "markdown",
      "id": "445dd196",
      "metadata": {
        "id": "445dd196"
      },
      "source": [
        "## 2. Loading the Dataset\n",
        "\n",
        "We will use the Fashion MNIST dataset, which is readily available in TensorFlow and can be easily loaded. The dataset contains 60,000 training images and 10,000 test images. Each image is a 28x28 grayscale image associated with a label from 10 classes."
      ]
    },
    {
      "cell_type": "code",
      "execution_count": null,
      "id": "1d74dc08",
      "metadata": {
        "colab": {
          "base_uri": "https://localhost:8080/"
        },
        "id": "1d74dc08",
        "outputId": "8786c17a-911b-4e19-f700-2e5835f021f0"
      },
      "outputs": [
        {
          "output_type": "stream",
          "name": "stdout",
          "text": [
            "Training data shape: (60000, 28, 28)\n",
            "Training labels shape: (60000,)\n",
            "Testing data shape: (10000, 28, 28)\n",
            "Testing labels shape: (10000,)\n"
          ]
        }
      ],
      "source": [
        "from tensorflow.keras.datasets import fashion_mnist\n",
        "import numpy as np\n",
        "\n",
        "# Load the Fashion MNIST dataset\n",
        "(X_train, y_train), (X_test, y_test) = fashion_mnist.load_data()\n",
        "\n",
        "# Display the shape of the data and labels\n",
        "print(f\"Training data shape: {X_train.shape}\")\n",
        "print(f\"Training labels shape: {y_train.shape}\")\n",
        "print(f\"Testing data shape: {X_test.shape}\")\n",
        "print(f\"Testing labels shape: {y_test.shape}\")"
      ]
    },
    {
      "cell_type": "markdown",
      "id": "ee23f9d5",
      "metadata": {
        "id": "ee23f9d5"
      },
      "source": [
        "## 3. Visualizing the Initial Dataset\n",
        "\n",
        "Let's visualize some of the initial images from the dataset to understand what they look like. We will plot the first 10 images from the training set along with their corresponding labels."
      ]
    },
    {
      "cell_type": "code",
      "execution_count": 3,
      "id": "9a5df5a7",
      "metadata": {
        "colab": {
          "base_uri": "https://localhost:8080/",
          "height": 132
        },
        "id": "9a5df5a7",
        "outputId": "01e55cab-a47e-4d8f-8a02-c860ea2f2b48"
      },
      "outputs": [
        {
          "output_type": "display_data",
          "data": {
            "text/plain": [
              "<Figure size 2000x300 with 10 Axes>"
            ],
            "image/png": "[encoded data removed]"
          },
          "metadata": {}
        }
      ],
      "source": [
        "import matplotlib.pyplot as plt\n",
        "\n",
        "# Function to plot images\n",
        "def plot_initial_images(images, labels, class_names):\n",
        "    fig, axes = plt.subplots(1, 10, figsize=(20, 3))\n",
        "    for i in range(10):\n",
        "        ax = axes[i]\n",
        "        ax.imshow(images[i], cmap='gray')\n",
        "        ax.set_title(class_names[labels[i]])\n",
        "        ax.axis('off')\n",
        "    plt.show()\n",
        "\n",
        "# Class names\n",
        "class_names = ['T-shirt/top', 'Trouser', 'Pullover', 'Dress', 'Coat',\n",
        "               'Sandal', 'Shirt', 'Sneaker', 'Bag', 'Ankle boot']\n",
        "\n",
        "# Plot some initial images with their labels\n",
        "plot_initial_images(X_train, y_train, class_names)"
      ]
    },
    {
      "cell_type": "markdown",
      "id": "997aca68",
      "metadata": {
        "id": "997aca68"
      },
      "source": [
        "## 4. Preprocessing the Data\n",
        "\n",
        "We will preprocess the images by normalizing the pixel values. Normalization is an important step as it scales the pixel values to a range of 0 to 1, which helps in speeding up the training process and improving the model's performance. We will also reshape the images to add a channel dimension required by OpenCV's HOG function."
      ]
    },
    {
      "cell_type": "code",
      "execution_count": 6,
      "id": "5ab83cba",
      "metadata": {
        "colab": {
          "base_uri": "https://localhost:8080/"
        },
        "id": "5ab83cba",
        "outputId": "6cf3cf42-d359-46f5-c915-9d0724319cff"
      },
      "outputs": [
        {
          "output_type": "stream",
          "name": "stdout",
          "text": [
            "Processed training data shape: (60000, 28, 28, 1)\n",
            "Processed testing data shape: (10000, 28, 28, 1)\n"
          ]
        }
      ],
      "source": [
        "# Normalize the pixel values\n",
        "X_train = X_train / 255.0\n",
        "X_test = X_test / 255.0\n",
        "\n",
        "# Reshape the images to add a channel dimension\n",
        "X_train = X_train.reshape(X_train.shape[0], 28, 28, 1)\n",
        "X_test = X_test.reshape(X_test.shape[0], 28, 28, 1)\n",
        "\n",
        "# Display the shape of the processed images\n",
        "print(f\"Processed training data shape: {X_train.shape}\")\n",
        "print(f\"Processed testing data shape: {X_test.shape}\")"
      ]
    },
    {
      "cell_type": "markdown",
      "id": "efe821b2",
      "metadata": {
        "id": "efe821b2"
      },
      "source": [
        "## 5. Extracting Features\n",
        "\n",
        "We will extract features from the images using the Histogram of Oriented Gradients (HOG) descriptor from OpenCV. HOG is a feature descriptor that captures the gradient structure or edge directions of the image. These features are used as input to the classifier."
      ]
    },
    {
      "cell_type": "code",
      "execution_count": 7,
      "id": "700cae4e",
      "metadata": {
        "colab": {
          "base_uri": "https://localhost:8080/"
        },
        "id": "700cae4e",
        "outputId": "c4bc6b84-6c62-40ff-a9b5-8c3814485a61"
      },
      "outputs": [
        {
          "output_type": "stream",
          "name": "stderr",
          "text": [
            "<ipython-input-7-08330bc128a6>:8: FutureWarning: `multichannel` is a deprecated argument name for `hog`. It will be removed in version 1.0. Please use `channel_axis` instead.\n",
            "  features = hog(image, pixels_per_cell=(4, 4), cells_per_block=(2, 2), visualize=False, multichannel=True)\n"
          ]
        },
        {
          "output_type": "stream",
          "name": "stdout",
          "text": [
            "HOG features training data shape: (60000, 1296)\n",
            "HOG features testing data shape: (10000, 1296)\n"
          ]
        }
      ],
      "source": [
        "import cv2\n",
        "from skimage.feature import hog\n",
        "\n",
        "def extract_hog_features(images):\n",
        "    hog_features = []\n",
        "    for image in images:\n",
        "        # Extract HOG features\n",
        "        features = hog(image, pixels_per_cell=(4, 4), cells_per_block=(2, 2), visualize=False, multichannel=True)\n",
        "        hog_features.append(features)\n",
        "    return np.array(hog_features)\n",
        "\n",
        "# Extract HOG features from the training and testing images\n",
        "X_train_hog = extract_hog_features(X_train)\n",
        "X_test_hog = extract_hog_features(X_test)\n",
        "\n",
        "# Display the shape of the HOG features\n",
        "print(f\"HOG features training data shape: {X_train_hog.shape}\")\n",
        "print(f\"HOG features testing data shape: {X_test_hog.shape}\")"
      ]
    },
    {
      "cell_type": "markdown",
      "id": "7df11c50",
      "metadata": {
        "id": "7df11c50"
      },
      "source": [
        "## 6. Training the Classifier\n",
        "\n",
        "We will use a Support Vector Machine (SVM) classifier to train our model. SVM is a powerful and versatile classifier that works well on small to medium-sized datasets. We will use a linear kernel for the SVM."
      ]
    },
    {
      "cell_type": "code",
      "execution_count": 8,
      "id": "1c6f4928",
      "metadata": {
        "colab": {
          "base_uri": "https://localhost:8080/"
        },
        "id": "1c6f4928",
        "outputId": "8c1abc35-1f6b-4268-98d1-27abf798813e"
      },
      "outputs": [
        {
          "output_type": "stream",
          "name": "stdout",
          "text": [
            "Training accuracy: 93.37%\n"
          ]
        }
      ],
      "source": [
        "from sklearn.svm import SVC\n",
        "\n",
        "# Create an SVM classifier\n",
        "svm = SVC(kernel='linear')\n",
        "\n",
        "# Train the classifier\n",
        "svm.fit(X_train_hog, y_train)\n",
        "\n",
        "# Display the training accuracy\n",
        "train_accuracy = svm.score(X_train_hog, y_train)\n",
        "print(f\"Training accuracy: {train_accuracy * 100:.2f}%\")"
      ]
    },
    {
      "cell_type": "markdown",
      "id": "7183457c",
      "metadata": {
        "id": "7183457c"
      },
      "source": [
        "## 7. Evaluating the Model\n",
        "\n",
        "We will evaluate the model on the testing set to understand how well it generalizes to new, unseen data. The evaluation metrics will help us determine the accuracy and effectiveness of the classifier."
      ]
    },
    {
      "cell_type": "code",
      "execution_count": 9,
      "id": "f2f94086",
      "metadata": {
        "colab": {
          "base_uri": "https://localhost:8080/"
        },
        "id": "f2f94086",
        "outputId": "7b66236d-3de4-445c-e1c2-04c3387c2875"
      },
      "outputs": [
        {
          "output_type": "stream",
          "name": "stdout",
          "text": [
            "Testing accuracy: 88.93%\n"
          ]
        }
      ],
      "source": [
        "# Evaluate the model on the testing set\n",
        "test_accuracy = svm.score(X_test_hog, y_test)\n",
        "print(f\"Testing accuracy: {test_accuracy * 100:.2f}%\")"
      ]
    },
    {
      "cell_type": "markdown",
      "id": "56779ffc",
      "metadata": {
        "id": "56779ffc"
      },
      "source": [
        "## 8. Visualizing the Output Predictions\n",
        "\n",
        "Let's visualize some of the output predictions to understand the performance of our model. We will plot the first 10 images from the test set along with their true and predicted labels."
      ]
    },
    {
      "cell_type": "code",
      "execution_count": 14,
      "id": "fa954036",
      "metadata": {
        "colab": {
          "base_uri": "https://localhost:8080/",
          "height": 142
        },
        "id": "fa954036",
        "outputId": "ddd4cdea-3fea-4a08-d355-02c9f4748e2a"
      },
      "outputs": [
        {
          "output_type": "display_data",
          "data": {
            "text/plain": [
              "<Figure size 2000x300 with 10 Axes>"
            ],
            "image/png": "[encoded data removed]"
          },
          "metadata": {}
        }
      ],
      "source": [
        "# Get predictions on the test set\n",
        "y_pred = svm.predict(X_test_hog)\n",
        "\n",
        "# Function to plot images with true and predicted labels\n",
        "def plot_output_images(images, true_labels, predicted_labels, class_names):\n",
        "    fig, axes = plt.subplots(1, 10, figsize=(20, 3))\n",
        "    for i in range(10):\n",
        "        ax = axes[i]\n",
        "        ax.imshow(images[i].reshape(28, 28), cmap='gray')\n",
        "        ax.set_title(f\"True: {class_names[true_labels[i]]}\\nPred: {class_names[predicted_labels[i]]}\", fontsize=10)\n",
        "        ax.axis('off')\n",
        "    plt.tight_layout()\n",
        "    plt.show()\n",
        "\n",
        "\n",
        "# Plot some test images along with their true and predicted labels\n",
        "plot_output_images(X_test[:10], y_test[:10], y_pred[:10], class_names)"
      ]
    },
    {
      "cell_type": "markdown",
      "id": "8eb2f0dc",
      "metadata": {
        "id": "8eb2f0dc"
      },
      "source": [
        "## Conclusion\n",
        "\n",
        "In this project, we built a simple image classifier using basic OpenCV functions and scikit-learn. We used the Fashion MNIST dataset of Zalando's article images, preprocessed the images, extracted features using HOG, trained an SVM classifier, and evaluated its performance. This project demonstrates the essential steps in building and training an image classifier using traditional machine learning techniques."
      ]
    }
  ],
  "metadata": {
    "colab": {
      "provenance": []
    },
    "language_info": {
      "name": "python"
    },
    "kernelspec": {
      "name": "python3",
      "display_name": "Python 3"
    }
  },
  "nbformat": 4,
  "nbformat_minor": 5
}