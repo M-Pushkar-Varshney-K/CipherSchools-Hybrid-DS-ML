{
  "cells": [
    {
      "cell_type": "markdown",
      "metadata": {
        "id": "view-in-github",
        "colab_type": "text"
      },
      "source": [
        "<a href=\"https://colab.research.google.com/github/M-Pushkar-Varshney-K/CipherSchools-Hybrid-DS-ML/blob/main/Hypothesis_Testing_and_Inferential_Statistics.ipynb\" target=\"_parent\"><img src=\"https://colab.research.google.com/assets/colab-badge.svg\" alt=\"Open In Colab\"/></a>"
      ]
    },
    {
      "cell_type": "markdown",
      "id": "dab18ad6",
      "metadata": {
        "id": "dab18ad6"
      },
      "source": [
        "## Hypothesis Testing\n",
        "\n",
        "**Definition:**\n",
        "- Hypothesis testing is a statistical method used to make decisions about the population based on sample data. It involves testing an assumption (hypothesis) and determining whether to reject the null hypothesis.\n",
        "\n",
        "**Use Case:**\n",
        "- Hypothesis testing is used in clinical trials to determine whether a new treatment is effective. For example, comparing the mean recovery times of patients using a new drug versus a placebo."
      ]
    },
    {
      "cell_type": "code",
      "execution_count": 1,
      "id": "1cb95709",
      "metadata": {
        "id": "1cb95709",
        "outputId": "8937fd25-79ee-401c-9327-4ab61f42ce66",
        "colab": {
          "base_uri": "https://localhost:8080/"
        }
      },
      "outputs": [
        {
          "output_type": "stream",
          "name": "stdout",
          "text": [
            "T-statistic: -0.4030341774879026\n",
            "P-value: 0.6974793830972668\n",
            "Fail to reject the null hypothesis\n"
          ]
        }
      ],
      "source": [
        "from scipy import stats\n",
        "\n",
        "# Sample data\n",
        "group1 = [2, 3, 5, 6, 9]\n",
        "group2 = [1, 4, 6, 8, 10]\n",
        "\n",
        "# T-test\n",
        "t_stat, p_val = stats.ttest_ind(group1, group2)\n",
        "print(\"T-statistic:\", t_stat)\n",
        "print(\"P-value:\", p_val)\n",
        "\n",
        "# Decision\n",
        "alpha = 0.05\n",
        "if p_val < alpha:\n",
        "    print(\"Reject the null hypothesis\")\n",
        "else:\n",
        "    print(\"Fail to reject the null hypothesis\")\n"
      ]
    },
    {
      "cell_type": "markdown",
      "id": "f4593b07",
      "metadata": {
        "id": "f4593b07"
      },
      "source": [
        "## ANOVA (Analysis of Variance)\n",
        "\n",
        "**Definition:**\n",
        "- ANOVA is a statistical method used to compare means of three or more samples to understand if at least one sample mean is significantly different from the others.\n",
        "\n",
        "**Use Case:**\n",
        "- ANOVA is used in marketing to compare the effectiveness of three or more advertising campaigns. It helps in identifying which campaign has the highest impact on sales."
      ]
    },
    {
      "cell_type": "code",
      "execution_count": 2,
      "id": "77a3cfe7",
      "metadata": {
        "id": "77a3cfe7",
        "outputId": "990a2fa0-7d1c-409b-c634-30ca812d22c4",
        "colab": {
          "base_uri": "https://localhost:8080/"
        }
      },
      "outputs": [
        {
          "output_type": "stream",
          "name": "stdout",
          "text": [
            "F-statistic: 0.1414141414141414\n",
            "P-value: 0.8695552754951179\n",
            "Fail to reject the null hypothesis\n"
          ]
        }
      ],
      "source": [
        "from scipy import stats\n",
        "\n",
        "# Sample data\n",
        "group1 = [2, 3, 5, 6, 9]\n",
        "group2 = [1, 4, 6, 8, 10]\n",
        "group3 = [2, 4, 6, 8, 10]\n",
        "\n",
        "# ANOVA\n",
        "f_stat, p_val = stats.f_oneway(group1, group2, group3)\n",
        "print(\"F-statistic:\", f_stat)\n",
        "print(\"P-value:\", p_val)\n",
        "\n",
        "# Decision\n",
        "alpha = 0.05\n",
        "if p_val < alpha:\n",
        "    print(\"Reject the null hypothesis\")\n",
        "else:\n",
        "    print(\"Fail to reject the null hypothesis\")\n"
      ]
    },
    {
      "cell_type": "markdown",
      "id": "79d45041",
      "metadata": {
        "id": "79d45041"
      },
      "source": [
        "## Inferential Statistics\n",
        "\n",
        "**Definition:**\n",
        "- Inferential statistics involve making inferences about the population based on sample data. It includes estimating population parameters, testing hypotheses, and making predictions.\n",
        "\n",
        "**Use Case:**\n",
        "- Inferential statistics are used in public health to estimate the prevalence of a disease in a population based on a sample."
      ]
    },
    {
      "cell_type": "code",
      "execution_count": 3,
      "id": "b2578420",
      "metadata": {
        "id": "b2578420",
        "outputId": "d3a195b0-6f6a-49e9-f32e-ddeb7990a809",
        "colab": {
          "base_uri": "https://localhost:8080/"
        }
      },
      "outputs": [
        {
          "output_type": "stream",
          "name": "stdout",
          "text": [
            "Confidence Interval: (3.2618924662558717, 7.538107533744129)\n"
          ]
        }
      ],
      "source": [
        "from scipy import stats\n",
        "import numpy as np\n",
        "\n",
        "# Sample data\n",
        "sample = [2, 3, 5, 6, 9, 1, 4, 6, 8, 10]\n",
        "\n",
        "# Confidence Interval for the mean\n",
        "confidence_level = 0.95\n",
        "degrees_freedom = len(sample) - 1\n",
        "sample_mean = np.mean(sample)\n",
        "sample_standard_error = stats.sem(sample)\n",
        "confidence_interval = stats.t.interval(confidence_level, degrees_freedom, sample_mean, sample_standard_error)\n",
        "\n",
        "print(\"Confidence Interval:\", confidence_interval)\n"
      ]
    }
  ],
  "metadata": {
    "colab": {
      "provenance": [],
      "include_colab_link": true
    },
    "language_info": {
      "name": "python"
    },
    "kernelspec": {
      "name": "python3",
      "display_name": "Python 3"
    }
  },
  "nbformat": 4,
  "nbformat_minor": 5
}