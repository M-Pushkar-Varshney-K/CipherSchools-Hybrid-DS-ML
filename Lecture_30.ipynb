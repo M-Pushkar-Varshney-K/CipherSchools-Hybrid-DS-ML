{
  "nbformat": 4,
  "nbformat_minor": 0,
  "metadata": {
    "colab": {
      "provenance": [],
      "authorship_tag": "ABX9TyOuFjmsrINHKoEPrik9edvc",
      "include_colab_link": true
    },
    "kernelspec": {
      "name": "python3",
      "display_name": "Python 3"
    },
    "language_info": {
      "name": "python"
    }
  },
  "cells": [
    {
      "cell_type": "markdown",
      "metadata": {
        "id": "view-in-github",
        "colab_type": "text"
      },
      "source": [
        "<a href=\"https://colab.research.google.com/github/M-Pushkar-Varshney-K/CipherSchools-Hybrid-DS-ML/blob/main/Lecture_30.ipynb\" target=\"_parent\"><img src=\"https://colab.research.google.com/assets/colab-badge.svg\" alt=\"Open In Colab\"/></a>"
      ]
    },
    {
      "cell_type": "markdown",
      "source": [
        "## Linear Regression\n",
        "\n",
        "Linear Regression is used to model the relationship between a dependent variable and one or more independent variables. The goal is to find the line that best fits the data."
      ],
      "metadata": {
        "id": "J8D2-9GrKuXw"
      }
    },
    {
      "cell_type": "code",
      "execution_count": 15,
      "metadata": {
        "colab": {
          "base_uri": "https://localhost:8080/"
        },
        "id": "oxlTU0fEKjA_",
        "outputId": "cbfecce2-7283-48ec-b430-a7216dfea1ee"
      },
      "outputs": [
        {
          "output_type": "stream",
          "name": "stdout",
          "text": [
            "Mean Squared Error: 4.564546143047338\n",
            "prediction :  [[17.88489035]\n",
            " [ 7.81759819]\n",
            " [17.35924292]\n",
            " [ 9.72768113]\n",
            " [23.89664362]\n",
            " [ 7.54322317]\n",
            " [10.56669181]\n",
            " [ 2.95076474]\n",
            " [ 8.89788895]\n",
            " [12.95730643]\n",
            " [11.43471105]\n",
            " [24.31704103]\n",
            " [16.03600869]\n",
            " [22.4731074 ]\n",
            " [10.20814657]\n",
            " [22.86376049]\n",
            " [ 6.12109642]\n",
            " [12.31732875]\n",
            " [24.82399158]\n",
            " [11.90398476]]\n",
            "actual :  [[15.77613125]\n",
            " [ 5.1770386 ]\n",
            " [17.03831388]\n",
            " [13.14589229]\n",
            " [24.73678892]\n",
            " [11.56393862]\n",
            " [11.21388319]\n",
            " [-1.18050818]\n",
            " [ 8.52890969]\n",
            " [12.98855119]\n",
            " [14.00438129]\n",
            " [25.8108779 ]\n",
            " [14.21090096]\n",
            " [21.68338321]\n",
            " [12.52277176]\n",
            " [22.94632157]\n",
            " [ 4.38416725]\n",
            " [14.52262475]\n",
            " [26.70886535]\n",
            " [13.9045356 ]]\n"
          ]
        }
      ],
      "source": [
        "from sklearn.model_selection import train_test_split\n",
        "from sklearn.linear_model import LinearRegression\n",
        "from sklearn.metrics import mean_squared_error\n",
        "\n",
        "# Generating synthetic data\n",
        "import numpy as np\n",
        "X = np.random.rand(100, 1) * 10\n",
        "y = 2.5 * X + np.random.randn(100, 1) * 2\n",
        "\n",
        "# Splitting data into training and testing sets\n",
        "X_train, X_test, y_train, y_test = train_test_split(X, y, test_size=0.2, random_state=42)\n",
        "\n",
        "# Training the model\n",
        "model = LinearRegression()\n",
        "model.fit(X_train, y_train)\n",
        "\n",
        "# Making predictions\n",
        "y_pred = model.predict(X_test)\n",
        "\n",
        "# Evaluating the model\n",
        "mse = mean_squared_error(y_test, y_pred)\n",
        "print(f'Mean Squared Error: {mse}')\n",
        "\n",
        "\n",
        "print('prediction : ',y_pred)\n",
        "print('actual : ',y_test)"
      ]
    },
    {
      "cell_type": "markdown",
      "source": [
        "## Logistic Regression\n",
        "\n",
        "Logistic Regression is used for binary classification problems. It models the probability of a class label based on one or more independent variables."
      ],
      "metadata": {
        "id": "qj-gRRKsLA1h"
      }
    },
    {
      "cell_type": "code",
      "source": [
        "from sklearn.datasets import load_iris\n",
        "from sklearn.model_selection import train_test_split\n",
        "from sklearn.linear_model import LogisticRegression\n",
        "from sklearn.metrics import accuracy_score\n",
        "\n",
        "# Loading the Iris dataset\n",
        "iris = load_iris()\n",
        "X = iris.data\n",
        "y = iris.target\n",
        "\n",
        "# Using only two classes for binary classification\n",
        "X = X[y != 2]\n",
        "y = y[y != 2]\n",
        "\n",
        "# Splitting data into training and testing sets\n",
        "X_train, X_test, y_train, y_test = train_test_split(X, y, test_size=0.2, random_state=42)\n",
        "\n",
        "# Training the model\n",
        "model = LogisticRegression()\n",
        "model.fit(X_train, y_train)\n",
        "\n",
        "# Making predictions\n",
        "y_pred = model.predict(X_test)\n",
        "\n",
        "# Evaluating the model\n",
        "accuracy = accuracy_score(y_test, y_pred)\n",
        "print(f'Accuracy: {accuracy}')\n"
      ],
      "metadata": {
        "colab": {
          "base_uri": "https://localhost:8080/"
        },
        "id": "WXQyeX1PLF9y",
        "outputId": "6e860270-7a11-4e5c-8bdb-eb57b9dd70b6"
      },
      "execution_count": 16,
      "outputs": [
        {
          "output_type": "stream",
          "name": "stdout",
          "text": [
            "Accuracy: 1.0\n"
          ]
        }
      ]
    },
    {
      "cell_type": "markdown",
      "source": [
        "## Decision Tree\n",
        "\n",
        "Decision Tree is a non-parametric supervised learning method used for classification and regression. It splits the data into subsets based on the most significant attributes."
      ],
      "metadata": {
        "id": "7biZqgFZLIAM"
      }
    },
    {
      "cell_type": "code",
      "source": [
        "from sklearn.datasets import load_iris\n",
        "from sklearn.model_selection import train_test_split\n",
        "from sklearn.tree import DecisionTreeClassifier\n",
        "from sklearn.metrics import accuracy_score\n",
        "\n",
        "# Loading the Iris dataset\n",
        "iris = load_iris()\n",
        "X = iris.data\n",
        "y = iris.target\n",
        "\n",
        "# Splitting data into training and testing sets\n",
        "X_train, X_test, y_train, y_test = train_test_split(X, y, test_size=0.2, random_state=42)\n",
        "\n",
        "# Training the model\n",
        "model = DecisionTreeClassifier()\n",
        "model.fit(X_train, y_train)\n",
        "\n",
        "# Making predictions\n",
        "y_pred = model.predict(X_test)\n",
        "\n",
        "# Evaluating the model\n",
        "accuracy = accuracy_score(y_test, y_pred)\n",
        "print(f'Accuracy: {accuracy}')\n"
      ],
      "metadata": {
        "colab": {
          "base_uri": "https://localhost:8080/"
        },
        "id": "BpX05blRLMgy",
        "outputId": "f572c5fc-44f3-45ea-8939-e95d68ebc4d9"
      },
      "execution_count": 17,
      "outputs": [
        {
          "output_type": "stream",
          "name": "stdout",
          "text": [
            "Accuracy: 1.0\n"
          ]
        }
      ]
    },
    {
      "cell_type": "markdown",
      "source": [
        "## Support Vector Machine (SVM)\n",
        "\n",
        "Support Vector Machine (SVM) is a supervised learning model used for classification and regression. It finds the hyperplane that best separates the classes in the feature space."
      ],
      "metadata": {
        "id": "BjoKF26vLR3t"
      }
    },
    {
      "cell_type": "code",
      "source": [
        "from sklearn.datasets import load_iris\n",
        "from sklearn.model_selection import train_test_split\n",
        "from sklearn.svm import SVC\n",
        "from sklearn.metrics import accuracy_score\n",
        "\n",
        "# Loading the Iris dataset\n",
        "iris = load_iris()\n",
        "X = iris.data\n",
        "y = iris.target\n",
        "\n",
        "# Using only two classes for binary classification\n",
        "X = X[y != 2]\n",
        "y = y[y != 2]\n",
        "\n",
        "# Splitting data into training and testing sets\n",
        "X_train, X_test, y_train, y_test = train_test_split(X, y, test_size=0.2, random_state=42)\n",
        "\n",
        "# Training the model\n",
        "model = SVC()\n",
        "model.fit(X_train, y_train)\n",
        "\n",
        "# Making predictions\n",
        "y_pred = model.predict(X_test)\n",
        "\n",
        "# Evaluating the model\n",
        "accuracy = accuracy_score(y_test, y_pred)\n",
        "print(f'Accuracy: {accuracy}')\n"
      ],
      "metadata": {
        "colab": {
          "base_uri": "https://localhost:8080/"
        },
        "id": "jMC0tMNgLXqt",
        "outputId": "e1cce563-b666-4cb9-f89c-4d56c2b08c70"
      },
      "execution_count": 18,
      "outputs": [
        {
          "output_type": "stream",
          "name": "stdout",
          "text": [
            "Accuracy: 1.0\n"
          ]
        }
      ]
    }
  ]
}